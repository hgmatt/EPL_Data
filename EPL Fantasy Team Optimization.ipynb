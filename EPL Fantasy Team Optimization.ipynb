{
 "cells": [
  {
   "cell_type": "code",
   "execution_count": null,
   "metadata": {
    "collapsed": true
   },
   "outputs": [],
   "source": [
    "#Load MyPrettyPrinter\n",
    "%run MyPrettyPrinter\n",
    "\n",
    "#Load EPL Data from fantasy.premierleague.com\n",
    "#%run getDataPL\n",
    "\n",
    "import cPickle as pickle\n",
    "date_text = '2016_07_27'\n",
    "players = pickle.load(open(date_text + '_player_data.p'))\n",
    "all_data = pickle.load(open(date_text + '_all_data.p'))\n"
   ]
  },
  {
   "cell_type": "code",
   "execution_count": null,
   "metadata": {
    "collapsed": true
   },
   "outputs": [],
   "source": []
  }
 ],
 "metadata": {
  "anaconda-cloud": {},
  "kernelspec": {
   "display_name": "Python [Python2.7]",
   "language": "python",
   "name": "Python [Python2.7]"
  }
 },
 "nbformat": 4,
 "nbformat_minor": 0
}
